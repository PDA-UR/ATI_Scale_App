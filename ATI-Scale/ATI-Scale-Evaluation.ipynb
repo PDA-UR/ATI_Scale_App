{
 "cells": [
  {
   "cell_type": "markdown",
   "id": "smaller-status",
   "metadata": {},
   "source": [
    "# ATI-Scale Evaluation"
   ]
  },
  {
   "cell_type": "markdown",
   "id": "basic-executive",
   "metadata": {},
   "source": [
    "## Imports"
   ]
  },
  {
   "cell_type": "code",
   "execution_count": 1,
   "id": "speaking-rebel",
   "metadata": {},
   "outputs": [],
   "source": [
    "import csv\n",
    "%matplotlib inline\n",
    "from pylab import *\n",
    "rcParams['figure.figsize'] = (16,9)\n",
    "rcParams['font.size'] = 12\n",
    "import numpy as np\n",
    "import scipy as sp\n",
    "import os\n",
    "import glob\n",
    "import pandas as pd\n",
    "import seaborn as sns\n",
    "from matplotlib.ticker import MultipleLocator\n",
    "import math\n",
    "import pingouin as pg"
   ]
  },
  {
   "cell_type": "markdown",
   "id": "formal-stanford",
   "metadata": {},
   "source": [
    "## Data Acquisition"
   ]
  },
  {
   "cell_type": "code",
   "execution_count": 2,
   "id": "supposed-boulder",
   "metadata": {},
   "outputs": [],
   "source": [
    "data_path = os.getcwd() + \"/log\"\n",
    "data_extension = \"csv\"\n",
    "os.chdir(data_path)\n",
    "data_files = glob.glob('*.{}'.format(data_extension))"
   ]
  },
  {
   "cell_type": "code",
   "execution_count": 3,
   "id": "boolean-brake",
   "metadata": {},
   "outputs": [],
   "source": [
    "tmp = [pd.read_csv(filename, index_col=None, header=0) for filename in data_files]\n",
    "df = pd.concat(tmp, axis=0, ignore_index=True)"
   ]
  },
  {
   "cell_type": "markdown",
   "id": "through-block",
   "metadata": {},
   "source": [
    "## Functions"
   ]
  },
  {
   "cell_type": "code",
   "execution_count": 4,
   "id": "stylish-distribution",
   "metadata": {},
   "outputs": [],
   "source": [
    "def plot_atiplot(headers, data_items, data_means, title):\n",
    "    sns.set(style=\"darkgrid\")\n",
    "    \n",
    "    f, (ax_box_items, ax_box) = plt.subplots(1, 2, sharey=True, gridspec_kw={'width_ratios': [0.90, 0.10]})\n",
    "\n",
    "    sns.boxplot(data=pd.DataFrame({\"ATI Mean Scores\": data_means[\"ati_means\"]}), ax=ax_box)\n",
    "    data_means_scatter = [d for d in data_means[\"ati_means\"]]\n",
    "    sns.scatterplot(data=pd.DataFrame(data_means_scatter).T, ax=ax_box, palette=[\"y\" for i in range(len(data_means_scatter))], markers=[\"o\" for i in range(len(data_means_scatter))], x_jitter=True, legend=None)\n",
    "    sns.boxplot(data=data_items, palette=[\"b\" for i in range(len(data_items))], ax=ax_box_items)\n",
    "    \n",
    "    ax_box.axes.set_ylim(0, 7)\n",
    "    ax_box.set_ylabel(\"\")\n",
    "    ax_box_items.set_xlabel(title)\n",
    "    ax_box_items.set_ylabel(\"ATI Item Scores\")\n",
    "    ax_box_items.axes.set_ylim(0, 7)\n",
    "\n",
    "def range_mean_median_sd(header, data):\n",
    "    data = list(data)    \n",
    "    print(f\"{header} ranges from {min(data)} to {max(data)} with a mean of {np.mean(data)} (sd. {sp.stats.tstd(data)}) and median of {np.median(data)}.\")\n",
    "        \n",
    "def cronbach_alpha(df):\n",
    "    df_ca = df.drop([\"pid\", \"ati_means\"], axis=1)\n",
    "    a, conf_interval = pg.cronbach_alpha(data=df_ca)\n",
    "    conf_interval = [conf_interval[0], conf_interval[1]]\n",
    "    \n",
    "    quality_of_survey = \"\\u001b[32mEXCELLENT\\x1b[0m\" if a >= 0.9 else \"\\u001b[32mGOOD\\x1b[0m\" if a >= 0.8 else \"\\u001b[32mACCEPTABLE\\x1b[0m\" if a >= 0.7 else \"\\u001b[31mQUESTIONABLE\\x1b[0m\" if a >= 0.6 else \"\\u001b[31mPOOR\\x1b[0m\" if a >= 0.5 else \"\\u001b[31mINSUFFICIENT\\x1b[0m\" \n",
    "    \n",
    "    print(f\"Confidence Interval: {conf_interval}\")\n",
    "    print(f\"Cronbach's Alpha: {a}\")\n",
    "    print(f\"Interpretation of Quality of Survey, according to Cripps, B. (2017):\\nPsychometric testing: Critical perspectives\")\n",
    "    print(f\"{quality_of_survey}\" + \" ({:.2f})\".format(a))"
   ]
  },
  {
   "cell_type": "markdown",
   "id": "white-tobago",
   "metadata": {},
   "source": [
    "## Evaluation"
   ]
  },
  {
   "cell_type": "markdown",
   "id": "conditional-singles",
   "metadata": {},
   "source": [
    "### Quality of Survey (Cronbach's Alpha)"
   ]
  },
  {
   "cell_type": "code",
   "execution_count": 5,
   "id": "human-subject",
   "metadata": {},
   "outputs": [
    {
     "name": "stdout",
     "output_type": "stream",
     "text": [
      "Confidence Interval: [-3.21, 0.92]\n",
      "Cronbach's Alpha: -0.13138686131386895\n",
      "Interpretation of Quality of Survey, according to Cripps, B. (2017):\n",
      "Psychometric testing: Critical perspectives\n",
      "\u001b[31mINSUFFICIENT\u001b[0m (-0.13)\n"
     ]
    }
   ],
   "source": [
    "cronbach_alpha(df)"
   ]
  },
  {
   "cell_type": "markdown",
   "id": "academic-georgia",
   "metadata": {},
   "source": [
    "### Evaluation ATI Item Scores and ATI Mean Scores"
   ]
  },
  {
   "cell_type": "code",
   "execution_count": 6,
   "id": "front-receptor",
   "metadata": {},
   "outputs": [
    {
     "data": {
      "image/png": "[encoded data removed]",
      "text/plain": [
       "<Figure size 1152x648 with 2 Axes>"
      ]
     },
     "metadata": {},
     "output_type": "display_data"
    }
   ],
   "source": [
    "plot_atiplot(df.drop([\"pid\", \"ati_means\"], axis=1).columns, df.drop([\"pid\", \"ati_means\"], axis=1), pd.DataFrame(df[\"ati_means\"]), \"ATI Items\")"
   ]
  },
  {
   "cell_type": "code",
   "execution_count": 7,
   "id": "frequent-victoria",
   "metadata": {},
   "outputs": [
    {
     "name": "stdout",
     "output_type": "stream",
     "text": [
      "ATI Means ranges from 2.6666666666666665 to 4.333333333333333 with a mean of 3.5 (sd. 0.7508568493597515) and median of 3.5.\n"
     ]
    }
   ],
   "source": [
    "range_mean_median_sd(\"ATI Means\", df[\"ati_means\"])"
   ]
  }
 ],
 "metadata": {
  "kernelspec": {
   "display_name": "Python 3",
   "language": "python",
   "name": "python3"
  },
  "language_info": {
   "codemirror_mode": {
    "name": "ipython",
    "version": 3
   },
   "file_extension": ".py",
   "mimetype": "text/x-python",
   "name": "python",
   "nbconvert_exporter": "python",
   "pygments_lexer": "ipython3",
   "version": "3.9.2"
  }
 },
 "nbformat": 4,
 "nbformat_minor": 5
}
